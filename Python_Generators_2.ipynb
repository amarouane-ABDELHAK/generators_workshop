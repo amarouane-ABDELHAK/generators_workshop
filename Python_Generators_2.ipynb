{
 "cells": [
  {
   "cell_type": "markdown",
   "metadata": {},
   "source": [
    "<h1 style=\"color: blue; text-align: center\"> The How? <h2>"
   ]
  },
  {
   "cell_type": "markdown",
   "metadata": {},
   "source": [
    "<h1><i>Gen brought some sweeteners !</i></h1>"
   ]
  },
  {
   "cell_type": "markdown",
   "metadata": {},
   "source": [
    "<h2> Let's make our own iterable object</h2>"
   ]
  },
  {
   "cell_type": "markdown",
   "metadata": {},
   "source": [
    "<span style=\"font-size: 20px\">\n",
    "<p>To create an iterable object you need to follow the iteration protocol </p>\n",
    "    <ul>\n",
    "        <li>Define <strong>__iter__ </strong></li><br>\n",
    "        <li>Define <strong>__next__</strong></li>\n",
    "    </ul>\n",
    "</span>"
   ]
  },
  {
   "cell_type": "markdown",
   "metadata": {},
   "source": [
    "<h2> Easy example: range with float steps</h2>\n",
    "\n",
    "<h3>Let's say we want an am_range with 0.5 steps</h3>\n",
    "                                <p style=\"font-size: 20px\">\n",
    "                                    0 - 0.5 - 1 - 1.5 - ....\n",
    "                                </p>"
   ]
  },
  {
   "cell_type": "code",
   "execution_count": 1,
   "metadata": {},
   "outputs": [],
   "source": [
    "### iteration protocol: \n",
    "\n",
    "#### 1) Your class should define  `__iter__`                             \n",
    "class am_range:\n",
    "    def __init__(self,start, stop):\n",
    "        self._start, self._stop = (start, stop)\n",
    "    def __iter__(self):\n",
    "        return am_next(self._start, self._stop)\n",
    "\n",
    "#### 2) You should define its `__next__`\n",
    "class am_next:\n",
    "    def __init__(self, start, stop):\n",
    "        self._start, self._stop = (start, stop)\n",
    "    def __next__(self):\n",
    "        r = self._start \n",
    "        if self._start > self._stop:\n",
    "            raise StopIteration\n",
    "        else:\n",
    "            self._start += 0.5\n",
    "        return r"
   ]
  },
  {
   "cell_type": "code",
   "execution_count": 2,
   "metadata": {},
   "outputs": [
    {
     "name": "stdout",
     "output_type": "stream",
     "text": [
      "<class 'type'>\n",
      "1\n",
      "1.5\n",
      "2.0\n",
      "2.5\n",
      "3.0\n",
      "3.5\n",
      "4.0\n",
      "4.5\n",
      "5.0\n",
      "5.5\n",
      "6.0\n",
      "6.5\n",
      "7.0\n"
     ]
    }
   ],
   "source": [
    "print(type(am_range))\n",
    "for ele in am_range(1,7):\n",
    "    print(ele)"
   ]
  },
  {
   "cell_type": "markdown",
   "metadata": {},
   "source": [
    "<span style=\"font-size: 20px\">\n",
    "    \n",
    "Remember the `am_range` class(es)\n",
    "With the generator it can be reduced to\n",
    "\n",
    "Instead of returning a value the function will generate a sequence (series) of values using `yield`.\n",
    "Produces a value and suspend the function (it just works)\n",
    "</span>\n"
   ]
  },
  {
   "cell_type": "code",
   "execution_count": 5,
   "metadata": {},
   "outputs": [],
   "source": [
    "def am_range(x, stop):\n",
    "    while stop >= x:\n",
    "        yield x\n",
    "        x += 0.5"
   ]
  },
  {
   "cell_type": "code",
   "execution_count": 6,
   "metadata": {},
   "outputs": [
    {
     "name": "stdout",
     "output_type": "stream",
     "text": [
      "<class 'function'>\n",
      "1\n",
      "1.5\n",
      "2.0\n",
      "2.5\n",
      "3.0\n",
      "3.5\n",
      "4.0\n",
      "4.5\n",
      "5.0\n",
      "5.5\n",
      "6.0\n",
      "6.5\n",
      "7.0\n"
     ]
    }
   ],
   "source": [
    "print(type(am_range))\n",
    "for ele in am_range(1,7):\n",
    "    print(ele)"
   ]
  },
  {
   "cell_type": "markdown",
   "metadata": {},
   "source": [
    "<h2> Advenced example: Abdelhak Sequence</h2>\n",
    "\n",
    "<h3>Let's say we want to have a sequence like</h3>\n",
    "<p style=\"font-size: 20px\">\n",
    "0 - 1 -  2 - 3 - 5 - 9 - 17 ....\n",
    "</p>"
   ]
  },
  {
   "cell_type": "code",
   "execution_count": 15,
   "metadata": {},
   "outputs": [],
   "source": [
    "### iteration protocol: \n",
    "\n",
    "#### 1) Your class should define  `__iter__`                             \n",
    "class ab_sequence:\n",
    "    def __init__(self,start, stop):\n",
    "        self._start, self._stop = (start, stop)\n",
    "    def __iter__(self):\n",
    "        return ab_sequence_next(self._start, self._stop)\n",
    "\n",
    "#### 2) You should define its `__next__`\n",
    "class ab_sequence_next:\n",
    "    def __init__(self, start, stop):\n",
    "        self._start, self._stop = (start, stop)\n",
    "    def __next__(self):\n",
    "        r = self._start \n",
    "        if self._start >= self._stop:\n",
    "            raise StopIteration\n",
    "        elif self._start <= 1:\n",
    "            self._start += 1\n",
    "        else:\n",
    "            self._start = (2*self._start) - 1\n",
    "        return r"
   ]
  },
  {
   "cell_type": "code",
   "execution_count": 18,
   "metadata": {},
   "outputs": [
    {
     "name": "stdout",
     "output_type": "stream",
     "text": [
      "0\n",
      "1\n",
      "2\n",
      "3\n",
      "5\n",
      "9\n",
      "17\n",
      "33\n",
      "65\n",
      "129\n",
      "257\n",
      "513\n"
     ]
    }
   ],
   "source": [
    "for ele in ab_sequence(0,700):\n",
    "    print(ele)"
   ]
  },
  {
   "cell_type": "code",
   "execution_count": 22,
   "metadata": {},
   "outputs": [],
   "source": [
    "# Genrators to the rescue \n",
    "\n",
    "def ab_sequence(start, stop):\n",
    "    while start <= stop:\n",
    "        yield start\n",
    "        start = (start + 1) if start <= 1 else (2*start) - 1"
   ]
  },
  {
   "cell_type": "code",
   "execution_count": 23,
   "metadata": {},
   "outputs": [
    {
     "name": "stdout",
     "output_type": "stream",
     "text": [
      "0\n",
      "1\n",
      "2\n",
      "3\n",
      "5\n",
      "9\n",
      "17\n",
      "33\n",
      "65\n",
      "129\n",
      "257\n",
      "513\n"
     ]
    }
   ],
   "source": [
    "for ele in ab_sequence(0,700):\n",
    "    print(ele)"
   ]
  },
  {
   "cell_type": "code",
   "execution_count": null,
   "metadata": {},
   "outputs": [],
   "source": []
  }
 ],
 "metadata": {
  "kernelspec": {
   "display_name": "Python 3",
   "language": "python",
   "name": "python3"
  },
  "language_info": {
   "codemirror_mode": {
    "name": "ipython",
    "version": 3
   },
   "file_extension": ".py",
   "mimetype": "text/x-python",
   "name": "python",
   "nbconvert_exporter": "python",
   "pygments_lexer": "ipython3",
   "version": "3.7.3"
  }
 },
 "nbformat": 4,
 "nbformat_minor": 4
}
