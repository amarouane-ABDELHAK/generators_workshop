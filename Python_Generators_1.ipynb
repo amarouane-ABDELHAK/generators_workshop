{
 "cells": [
  {
   "cell_type": "markdown",
   "metadata": {},
   "source": [
    "<h1 style=\"text-align: center\"> Introduction to Python generators <h1>"
   ]
  },
  {
   "cell_type": "markdown",
   "metadata": {},
   "source": [
    "<h2> In this workshop we will cover:<h2>"
   ]
  },
  {
   "cell_type": "markdown",
   "metadata": {},
   "source": [
    "<span style=\"font-size: 20px\"> \n",
    "The three chevalier of the apocalypse\n",
    "<ul style=\"font-size: 20px\">\n",
    "    <li>Why?</li>\n",
    "    <br>\n",
    "    <li>What?</li>\n",
    "    <br>\n",
    "    <li>How?</li>\n",
    "</ul>\n",
    "</span>"
   ]
  },
  {
   "cell_type": "markdown",
   "metadata": {},
   "source": [
    "<h2> A disclaimer: </h2>\n",
    "\n",
    "<p style=\"font-size:20px\">We will cover how to use it, and not <strong>when</strong> to use it</p>"
   ]
  },
  {
   "cell_type": "markdown",
   "metadata": {},
   "source": [
    "<br>\n",
    "<h1 style=\"color: blue; text-align: center\"> The Why? <h2>"
   ]
  },
  {
   "cell_type": "markdown",
   "metadata": {},
   "source": [
    "<h3 style=\"font-size:24px\">Developers are using generators because they:</h3>\n",
    " <ul style=\"font-size:20px\" >\n",
    "                                <li >\n",
    "                                    Make you look cool and your code trusted\n",
    "                                </li>\n",
    "    <br>\n",
    "                                <li>\n",
    "                                    Make your code clean and compact\n",
    "                                </li>\n",
    "    <br>\n",
    "                                <li>\n",
    "                                    Guarantee a memory efficient processing (jokes aside, this is why they use generators)\n",
    "                                </li>\n",
    "    <br>\n",
    "                                <li>\n",
    "                                    Seriously, do you really need more reasons?\n",
    "                                </li>\n",
    " </ul>"
   ]
  },
  {
   "cell_type": "markdown",
   "metadata": {},
   "source": [
    "<br>\n",
    "<h1 style=\"color: blue; text-align: center\"> The What? <h2>\n",
    "\n",
    "<h3 style=\"font-size:20px\"> Generators are iterable objects</h3>\n",
    "\n",
    "<h4 style=\"font-size:20px; color:red\">Iterable object follow the iteration protocol and are useless without an iterable consumer</h4>\n",
    "    <p style=\"font-size:20px\">Iterable object consumers are: for, while, min, max, in...</p>"
   ]
  },
  {
   "cell_type": "markdown",
   "metadata": {},
   "source": [
    "<h2> An example on an iterable consumer: the famous For loops</h2>"
   ]
  },
  {
   "cell_type": "markdown",
   "metadata": {},
   "source": [
    "  <ul style=\"font-size:20px; text-align: justify\" >\n",
    "                                    <li>\n",
    "                                        A list    &emsp;      -------->  &emsp;its elemenets\n",
    "                                    </li>\n",
    "    <br>\n",
    "                                    <li>\n",
    "                                        A dictionary &emsp;-------->  &emsp;its keys\n",
    "                                    </li><br>\n",
    "                                    <li>\n",
    "                                        A string    &emsp;--------> &emsp; its charachters\n",
    "                                    </li><br>\n",
    "                                    <li>\n",
    "                                        A file      &emsp; -------->  &emsp;its lines\n",
    "                                    </li><br>\n",
    "                                </ul>"
   ]
  },
  {
   "cell_type": "code",
   "execution_count": 1,
   "metadata": {},
   "outputs": [
    {
     "name": "stdout",
     "output_type": "stream",
     "text": [
      "one two three"
     ]
    }
   ],
   "source": [
    "my_dict = {'one': 1, 'two': 2, 'three': 3}\n",
    "\n",
    "for ele in my_dict:\n",
    "    print(ele, end=' ')"
   ]
  },
  {
   "cell_type": "markdown",
   "metadata": {},
   "source": [
    "<h3 style=\"font-size:20px\"> How the consumers work </h3>"
   ]
  },
  {
   "cell_type": "code",
   "execution_count": null,
   "metadata": {},
   "outputs": [],
   "source": [
    "my_list = [1,2,3,4]\n",
    "print(\"# What you see\")\n",
    "for ele in my_list:\n",
    "    print(ele)\n",
    "\n",
    "    \n",
    "print(\"==\"*4)\n",
    "print(\"# Under the hood\")\n",
    "_iter = iter(my_list)\n",
    "while True:\n",
    "    try:\n",
    "        print(_iter.__next__())\n",
    "    except StopIteration:\n",
    "        break"
   ]
  },
  {
   "cell_type": "code",
   "execution_count": null,
   "metadata": {},
   "outputs": [],
   "source": []
  },
  {
   "cell_type": "code",
   "execution_count": null,
   "metadata": {},
   "outputs": [],
   "source": []
  }
 ],
 "metadata": {
  "kernelspec": {
   "display_name": "Python 3",
   "language": "python",
   "name": "python3"
  },
  "language_info": {
   "codemirror_mode": {
    "name": "ipython",
    "version": 3
   },
   "file_extension": ".py",
   "mimetype": "text/x-python",
   "name": "python",
   "nbconvert_exporter": "python",
   "pygments_lexer": "ipython3",
   "version": "3.7.3"
  }
 },
 "nbformat": 4,
 "nbformat_minor": 4
}
