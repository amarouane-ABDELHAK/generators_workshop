{
 "cells": [
  {
   "cell_type": "markdown",
   "metadata": {},
   "source": [
    "<h1> Now with the performance </h1>\n",
    "\n",
    "<h2>Generating employees</h2>"
   ]
  },
  {
   "cell_type": "code",
   "execution_count": null,
   "metadata": {},
   "outputs": [],
   "source": [
    "from memory_usage import memory_usage_psutil, compute_process_time\n",
    "from time import process_time\n",
    "import random\n",
    "names = ['John', 'Corey', 'Adam', 'Steve', 'Rick', 'Thomas']\n",
    "fields = ['Math', 'Engineering', 'CompSci', 'Arts', 'Business']"
   ]
  },
  {
   "cell_type": "code",
   "execution_count": null,
   "metadata": {},
   "outputs": [],
   "source": [
    "def generate_employees(how_many):\n",
    "    employees = []\n",
    "\n",
    "    while how_many > 0:\n",
    "        employees.append({\n",
    "            \"name\": random.choice(names),\n",
    "            \"age\": random.randint(20, 60),\n",
    "            \"departement\": random.choice(fields)\n",
    "        })\n",
    "        how_many -= 1\n",
    "    return employees"
   ]
  },
  {
   "cell_type": "code",
   "execution_count": null,
   "metadata": {},
   "outputs": [],
   "source": [
    "def generate_employees_generator(how_many):\n",
    "    while how_many > 0:\n",
    "        employee = {\n",
    "            \"name\": random.choice(names),\n",
    "            \"age\": random.randint(20, 60),\n",
    "            \"departement\": random.choice(fields)\n",
    "        }\n",
    "        yield employee\n",
    "        how_many -= 1"
   ]
  },
  {
   "cell_type": "code",
   "execution_count": null,
   "metadata": {},
   "outputs": [],
   "source": [
    "start = process_time()\n",
    "memory_usage_psutil(\"Before\")\n",
    "#employees = generate_employees(1E7)\n",
    "employees = generate_employees_generator(1E7)\n",
    "for i, employee in enumerate(employees):\n",
    "    if i % 1E6 == 0:\n",
    "        print(employee, i)\n",
    "memory_usage_psutil(\"After\")\n",
    "compute_process_time(start)"
   ]
  },
  {
   "cell_type": "markdown",
   "metadata": {},
   "source": [
    "<h2> Creating an infinite loop </h2>\n",
    "\n",
    "<h3>Can't be done without generators<h3>"
   ]
  },
  {
   "cell_type": "code",
   "execution_count": null,
   "metadata": {},
   "outputs": [],
   "source": [
    "def infinite_loop(x=1):\n",
    "    \n",
    "    while True:\n",
    "        yield x\n",
    "        x += 1\n",
    "for ele in infinite_loop():\n",
    "    print(ele)"
   ]
  },
  {
   "cell_type": "markdown",
   "metadata": {},
   "source": [
    "<h1> Generators are considered on the fly functions <h1>\n",
    "<h2>Meaning they are executed only when they are consumed<h2>"
   ]
  },
  {
   "cell_type": "code",
   "execution_count": null,
   "metadata": {},
   "outputs": [],
   "source": [
    "def my_generator(x):\n",
    "    print(\"Hello I am a generator\")\n",
    "    while x > 0:\n",
    "        yield x\n",
    "        x -= 1"
   ]
  },
  {
   "cell_type": "code",
   "execution_count": null,
   "metadata": {},
   "outputs": [],
   "source": [
    "dd = my_generator(5)\n",
    "dd.__next__()"
   ]
  }
 ],
 "metadata": {
  "kernelspec": {
   "display_name": "Python 3",
   "language": "python",
   "name": "python3"
  },
  "language_info": {
   "codemirror_mode": {
    "name": "ipython",
    "version": 3
   },
   "file_extension": ".py",
   "mimetype": "text/x-python",
   "name": "python",
   "nbconvert_exporter": "python",
   "pygments_lexer": "ipython3",
   "version": "3.7.3"
  }
 },
 "nbformat": 4,
 "nbformat_minor": 4
}
